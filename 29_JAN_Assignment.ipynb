{
 "cells": [
  {
   "cell_type": "markdown",
   "id": "d36ac181-8ba8-4df2-aac8-8f893e86e8c5",
   "metadata": {},
   "source": [
    "1)Who Developed the python programming language?\n",
    "=="
   ]
  },
  {
   "cell_type": "code",
   "execution_count": null,
   "id": "8e10f7a2-a8ba-4746-85bd-2f6aeb8c02c6",
   "metadata": {},
   "outputs": [],
   "source": [
    "->Guido Van Rossum"
   ]
  },
  {
   "cell_type": "markdown",
   "id": "648be04d-889b-47f3-b03b-c315040dc56a",
   "metadata": {},
   "source": [
    "2)Which type of programming does python support?\n",
    "="
   ]
  },
  {
   "cell_type": "markdown",
   "id": "c458ae5d-3b34-4b95-8d58-5795f029081f",
   "metadata": {},
   "source": [
    "Imperative Programming\n",
    "Object-Oriented Programming (OOP)\n",
    "Functional Programming\n",
    "Scripting\n",
    "Procedural Programming\n",
    "Declarative Programming"
   ]
  },
  {
   "cell_type": "markdown",
   "id": "257ec778-1d00-492b-82ba-770659c4d984",
   "metadata": {},
   "source": [
    "3)is python case sensitive when dealing with identifier?\n",
    "=="
   ]
  },
  {
   "cell_type": "markdown",
   "id": "1ad3e4b6-5dce-482d-b339-343f498ed7e1",
   "metadata": {},
   "source": [
    "YES, it is a case sensitive"
   ]
  },
  {
   "cell_type": "markdown",
   "id": "be298dec-33c9-434b-aec6-9cbaf5db7640",
   "metadata": {},
   "source": [
    "4)what is the correct extension of python file?\n",
    "=\n",
    "->\n",
    ".py"
   ]
  },
  {
   "cell_type": "markdown",
   "id": "4ef8aadb-d10d-4647-ab27-9019d9a5c851",
   "metadata": {},
   "source": [
    "5)is python code compiled or interpreted ?\n",
    "==\n",
    "->\n",
    "Python is an interpreted language, \n",
    "which means the source code of a Python program is converted into bytecode,\n",
    "that is then executed by the Python virtual machine"
   ]
  },
  {
   "cell_type": "markdown",
   "id": "15d38dc7-8957-47f6-96be-ede1f57e7cf6",
   "metadata": {},
   "source": [
    "6)Name a few blocks of code used to define in Python language?\n",
    "==\n",
    "->\n",
    "\n",
    "Python uses indentation to define blocks of code. \n",
    "Indentations are simply spaces or tabs used as an indicator that is part of the indent code child.\n",
    "\n",
    "if (condition):\n",
    "\n",
    "#Statement 1\n",
    "else:\n",
    "\n",
    "Statement 2\n",
    "You will find that statements 1 will have the same indentation and therefore is of the same block. And similarly, statements 2 is of a another block."
   ]
  },
  {
   "cell_type": "markdown",
   "id": "b952332c-75ba-4c9a-a79c-fc36e0efb2b5",
   "metadata": {},
   "source": [
    "7)State a character used to give single-line comments in Python?\n",
    "=\n",
    "->' # ' symbol to write a single-line comment."
   ]
  },
  {
   "cell_type": "markdown",
   "id": "bb699531-0f73-4435-9aa9-5fc73b8c1ea2",
   "metadata": {},
   "source": [
    "8)Mention functions which can help us to find the version of python that we are currently working on?\n",
    "=\n",
    "->The function sys.version help us to find the version of python that we are currently working on."
   ]
  },
  {
   "cell_type": "markdown",
   "id": "1b058754-82df-4582-b2eb-6b14c6954bfe",
   "metadata": {},
   "source": [
    "9)Python supports the creation of anonymous functions at runtime, using a construct called\n",
    "=\n",
    "->\n",
    "Lambda"
   ]
  },
  {
   "cell_type": "markdown",
   "id": "b8125c0e-561b-433e-ae61-4b713009d0af",
   "metadata": {},
   "source": [
    "10)What does pip stand for python?\n",
    "===\n",
    "->\n",
    "Preferred Installer Program"
   ]
  },
  {
   "cell_type": "markdown",
   "id": "1b5de977-60ff-4f86-873f-52a1e3a163b5",
   "metadata": {},
   "source": [
    "11)Mention a few built- in functions in python?\n",
    "==\n",
    "->\n",
    "print(): Used to display output to the console.\n",
    "len(): Returns the length (number of items) of an object such as a string, list, tuple, dictionary, etc.\n",
    "input(): Reads input from the user via the keyboard.\n",
    "int(): Converts a value to an integer.\n",
    "float(): Converts a value to a floating-point number.\n",
    "str(): Converts a value to a string.\n",
    "list(): Converts an iterable (such as a tuple or string) to a list.\n",
    "tuple(): Converts an iterable to a tuple.\n",
    "dict(): Creates a new dictionary or converts an iterable of key-value pairs to a dictionary.\n",
    "range(): Generates a sequence of numbers within a specified range.\n",
    "sum(): Returns the sum of elements in an iterable.\n",
    "max(): Returns the maximum value from an iterable or multiple arguments.\n",
    "min(): Returns the minimum value from an iterable or multiple arguments.\n",
    "sorted(): Returns a sorted list of elements from an iterable.\n",
    "abs(): Returns the absolute value of a number.\n",
    "type(): Returns the type of an object.\n",
    "enumerate(): Returns an enumerate object that yields pairs of index and value for each item in an iterable.\n",
    "zip(): Returns an iterator that aggregates elements from multiple iterables.\n",
    "any(): Returns True if any element in an iterable is true.\n",
    "all(): Returns True if all elements in an iterable are true."
   ]
  },
  {
   "cell_type": "markdown",
   "id": "ae4534c7-8647-4ddf-a4eb-d454634e00a1",
   "metadata": {},
   "source": [
    "12)What is the maximum possible length of an identifier in Python?\n",
    "==\n",
    "->\n",
    "79 characters"
   ]
  },
  {
   "cell_type": "markdown",
   "id": "71aa798b-5a36-4e7b-a2da-b2addffacdc4",
   "metadata": {},
   "source": [
    "13)What are the benefits of using Python?\n",
    "==\n",
    "Simple and Easy to learn\n",
    "Portable and Extensible\n",
    "Object-Oriented Programming\n",
    "Artificial Intelligence\n",
    "Big Data\n",
    "Python can handle plenty of an immense amount of data."
   ]
  },
  {
   "cell_type": "markdown",
   "id": "7f5e9005-63ff-4375-8e28-54bf97a607ae",
   "metadata": {},
   "source": [
    "14)How is memory managed in Python?\n",
    "==\n",
    "->\n",
    "Automatic Memory Management: Python uses automatic memory management, also known as garbage collection, to automatically reclaim memory occupied by objects that are no longer in use. Python's built-in garbage collector periodically scans the memory for objects that are no longer referenced and frees up the memory occupied by those objects.\n",
    "\n",
    "Reference Counting: Python uses reference counting as its primary memory management strategy. Each object in Python contains a reference count that keeps track of the number of references to that object. When an object's reference count drops to zero, meaning that there are no more references to the object, the memory occupied by the object is automatically reclaimed.\n",
    "\n",
    "Garbage Collection: In addition to reference counting, Python also employs a garbage collector to deal with cyclic references and objects that cannot be reclaimed by reference counting alone. The garbage collector identifies and collects cyclic references and unreachable objects, preventing memory leaks and ensuring efficient memory usage.\n",
    "\n",
    "Memory Pools: Python's memory manager uses memory pools to efficiently allocate and deallocate memory for small objects. Memory pools reduce the overhead of memory allocation and deallocation by reusing memory blocks instead of repeatedly requesting memory from the operating system.\n",
    "\n",
    "Optimizations: Python's memory manager includes various optimizations to improve memory usage and performance. These optimizations include techniques such as object reusing, object pooling, and memory preallocation to minimize memory fragmentation and reduce memory overhead.\n"
   ]
  },
  {
   "cell_type": "markdown",
   "id": "2156ec28-89dd-4adf-8352-bc0ec3f34833",
   "metadata": {},
   "source": [
    "15)How to install Python on Windows and set path variables?\n",
    "==\n",
    "-First, we need to locate where the python is being installed after downloading it. Press WINDOWS key and search for “Python”, you will get something like this:Click on open file location and you will be in a location where Python is installed, Copy the location path from the top by clicking over it. Now, we have to add the above-copied path as a variable so that windows can recognize. Search for “Environmental Variables”, you will see something like this: Click on that( Now click the “Environmental Variables” button\n"
   ]
  },
  {
   "cell_type": "markdown",
   "id": "57010a77-79e5-40a4-b7c9-71afc91bf82b",
   "metadata": {},
   "source": [
    "16)is indentation is required for the python?\n",
    "==\n",
    "\n",
    "Yes, indentation is required in Python. Unlike many other programming languages that use braces ({}) or keywords (such as begin and end) to delimit blocks of code, Python uses indentation to define the structure of the code."
   ]
  },
  {
   "cell_type": "code",
   "execution_count": null,
   "id": "1d7fdde0-02da-4aa9-90b2-d40626918cfb",
   "metadata": {},
   "outputs": [],
   "source": []
  }
 ],
 "metadata": {
  "kernelspec": {
   "display_name": "Python 3 (ipykernel)",
   "language": "python",
   "name": "python3"
  },
  "language_info": {
   "codemirror_mode": {
    "name": "ipython",
    "version": 3
   },
   "file_extension": ".py",
   "mimetype": "text/x-python",
   "name": "python",
   "nbconvert_exporter": "python",
   "pygments_lexer": "ipython3",
   "version": "3.10.8"
  }
 },
 "nbformat": 4,
 "nbformat_minor": 5
}
