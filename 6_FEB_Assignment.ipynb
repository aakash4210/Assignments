{
 "cells": [
  {
   "cell_type": "markdown",
   "id": "667ec742-459f-4fa7-b89c-9c4a73788014",
   "metadata": {},
   "source": [
    "Q1Create a function which will take a list as an argument and return the product of all the numbers after creating a flat list.\n",
    "\n",
    "Use the below-given list as an argument for your function.\n",
    "\n",
    "\n",
    "list1 = [1,2,3,4, [44,55,66, True], False, (34,56,78,89,34), {1,2,3,3,2,1}, {1:34, \"key2\": [55, 67, 78, 89], 4: (45, \n",
    "22, 61, 34)}, [56, 'data science'], 'Machine Learning']'"
   ]
  },
  {
   "cell_type": "code",
   "execution_count": 5,
   "id": "ca106e63-db8c-4205-a900-3c97b9225b33",
   "metadata": {},
   "outputs": [
    {
     "name": "stdout",
     "output_type": "stream",
     "text": [
      "2315262738624675840\n"
     ]
    }
   ],
   "source": [
    "from typing import List\n",
    "\n",
    "def get_product(lst: List):\n",
    "    flat_list = []\n",
    "    def flatten(lst):\n",
    "        for item in lst:\n",
    "            if type(item) in (list, tuple, set, dict):\n",
    "                flatten(item)\n",
    "            elif type(item) == int:\n",
    "                flat_list.append(item)\n",
    "    flatten(lst)\n",
    "    product = 1\n",
    "    for num in flat_list:\n",
    "        product *= num\n",
    "    return product\n",
    "\n",
    "list1 = [1,2,3,4, [44,55,66, True], False, (34,56,78,89,34), {1,2,3,3,2,1}, {1:34, \"key2\": [55, 67, 78, 89], 4: (45, 22, 61, 34)}, [56, 'data science'], 'Machine Learning']\n",
    "print(get_product(list1))"
   ]
  },
  {
   "cell_type": "markdown",
   "id": "7ae4c803-9577-44de-ba5a-107e3d5b2f3b",
   "metadata": {},
   "source": [
    "Q2)Write a python program for encrypting a message sent to you by your friend. The logic of encryption should be such that, for a the output should be z. For b, the output should be y. For c, the output should be x respectively. Also, the whitespace should be replaced with a dollar sign. Keep the punctuation marks unchanged. Input Sentence: I want to become a Data Scientist. Encrypt the above input sentence using the program you just created"
   ]
  },
  {
   "cell_type": "code",
   "execution_count": 6,
   "id": "73bdf2ee-4cf2-4499-970a-b329a9841441",
   "metadata": {},
   "outputs": [
    {
     "name": "stdout",
     "output_type": "stream",
     "text": [
      "Encrypted sentence: r$dzmg$gl$yvxlnv$z$wzgz$hxrvmgrhg.\n"
     ]
    }
   ],
   "source": [
    "def encrypt(sentence):\n",
    "  sentence = sentence.lower()\n",
    "  encryption = {}\n",
    "  for i in range(26):\n",
    "    encryption[chr(i + ord('a'))] = chr((25 - i) + ord('a'))\n",
    "  encryption[' '] = '$'\n",
    "  encrypted_sentence = ''\n",
    "  for char in sentence:\n",
    "    if char in encryption:\n",
    "      encrypted_sentence += encryption[char]\n",
    "    else:\n",
    "      encrypted_sentence += char\n",
    "  return encrypted_sentence\n",
    "\n",
    "sentence = \"I want to become a Data Scientist.\"\n",
    "encrypted_sentence = encrypt(sentence)\n",
    "print(\"Encrypted sentence:\", encrypted_sentence)"
   ]
  },
  {
   "cell_type": "code",
   "execution_count": null,
   "id": "0119f0b0-0470-4198-8d5a-fab9d1630cd6",
   "metadata": {},
   "outputs": [],
   "source": []
  }
 ],
 "metadata": {
  "kernelspec": {
   "display_name": "Python 3 (ipykernel)",
   "language": "python",
   "name": "python3"
  },
  "language_info": {
   "codemirror_mode": {
    "name": "ipython",
    "version": 3
   },
   "file_extension": ".py",
   "mimetype": "text/x-python",
   "name": "python",
   "nbconvert_exporter": "python",
   "pygments_lexer": "ipython3",
   "version": "3.10.8"
  }
 },
 "nbformat": 4,
 "nbformat_minor": 5
}
