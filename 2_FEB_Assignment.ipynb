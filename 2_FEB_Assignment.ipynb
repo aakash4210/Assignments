{
 "cells": [
  {
   "cell_type": "markdown",
   "id": "449ac7e7-4395-415f-9c9d-c06a2d622eba",
   "metadata": {},
   "source": [
    "1)Explain with an example each when to use a for loop and a while loop.\n",
    "==========================================================================\n",
    "->\n",
    "When to use for loop:\n",
    "-------------------\n",
    "i.When iterating over elements of a sequence\n",
    "Example: Printing each character in a string.\n",
    "\n",
    "ii.When you know the number of iterations in advance\n",
    "Example: You want to print numbers from 1 to 10\n",
    "for i in range(1, 11):\n",
    "    print(i)\n",
    "    \n",
    "When to use a while loop:\n",
    "------------------------\n",
    "i.When you need to repeatedly execute a block of code until a condition is met\n",
    "Example: Simulating a game where a player keeps rolling a dice until they get a 6.\n",
    "\n",
    "ii.When you don't know the number of iterations in advance, but have a condition for termination\n",
    "Example: Finding the first power of 2 greater than 100.\n",
    "\n",
    "power_of_two = 1\n",
    "while power_of_two <= 100:\n",
    "    power_of_two *= 2\n",
    "print(\"The first power of 2 greater than 100 is\", power_of_two)\n"
   ]
  },
  {
   "cell_type": "code",
   "execution_count": null,
   "id": "068638bb-db46-488d-9c8f-0926e329e784",
   "metadata": {},
   "outputs": [],
   "source": []
  },
  {
   "cell_type": "markdown",
   "id": "5dbab14a-620f-4f8c-83ce-6e67c500bdba",
   "metadata": {},
   "source": [
    "2)Write a python program to print the sum and product of the first 10 natural numbers using for and while loop.\n",
    "===================================================================================================="
   ]
  },
  {
   "cell_type": "code",
   "execution_count": 1,
   "id": "7f35def4-a1e5-4a2f-9955-df1fc2a50e6c",
   "metadata": {},
   "outputs": [
    {
     "name": "stdout",
     "output_type": "stream",
     "text": [
      "Sum of the first 10 natural numbers: 55\n",
      "Product of the first 10 natural numbers: 3628800\n"
     ]
    }
   ],
   "source": [
    "#using For:\n",
    "sum = 0\n",
    "product = 1\n",
    "\n",
    "for num in range(1, 11):\n",
    "    sum += num\n",
    "    product *= num\n",
    "print(\"Sum of the first 10 natural numbers:\", sum)\n",
    "print(\"Product of the first 10 natural numbers:\", product)\n"
   ]
  },
  {
   "cell_type": "code",
   "execution_count": 2,
   "id": "63ea1385-aa97-409f-af3e-e6f19565ec6b",
   "metadata": {},
   "outputs": [
    {
     "name": "stdout",
     "output_type": "stream",
     "text": [
      "sum of 10 nos are: 55\n",
      "product of 10 nos are: 3628800\n"
     ]
    }
   ],
   "source": [
    "#using while\n",
    "sum=0\n",
    "products =1\n",
    "i=1\n",
    "while (i<11):\n",
    "    sum = sum+i\n",
    "    products = products*i\n",
    "    i +=1\n",
    "print(\"sum of 10 nos are:\",sum)\n",
    "print(\"product of 10 nos are:\",products)"
   ]
  },
  {
   "cell_type": "code",
   "execution_count": null,
   "id": "63ae2940-f645-431d-ba23-9afb820a4ec3",
   "metadata": {},
   "outputs": [],
   "source": []
  },
  {
   "cell_type": "markdown",
   "id": "16b188d2-1bde-48d0-835c-3dc2f0818da5",
   "metadata": {},
   "source": [
    "Q3. Create a python program to compute the electricity bill for a household.\n",
    "The per-unit charges in rupees are as follows: For the first 100 units, the user will be charged Rs. 4.5 per\n",
    "unit, for the next 100 units, the user will be charged Rs. 6 per unit, and for the next 100 units, the user will\n",
    "be charged Rs. 10 per unit, After 300 units and above the user will be charged Rs. 20 per unit."
   ]
  },
  {
   "cell_type": "code",
   "execution_count": 7,
   "id": "d6198f81-9f29-4ac8-acb6-17978328b124",
   "metadata": {},
   "outputs": [
    {
     "name": "stdin",
     "output_type": "stream",
     "text": [
      "Enter Units:  310\n"
     ]
    },
    {
     "name": "stdout",
     "output_type": "stream",
     "text": [
      "Total Electricity Bill Rs.2250\n"
     ]
    }
   ],
   "source": [
    "units = int(input('Enter Units: '))\n",
    "bill = 0\n",
    "if units <= 100:\n",
    "    bill += 4.5*units\n",
    "    units -= 100\n",
    "elif units > 100 and units <= 200:\n",
    "    bill += 450\n",
    "    units -= 100\n",
    "    bill += 6*units\n",
    "elif units > 200 and units <= 300:\n",
    "    bill += 450+600\n",
    "    units -= 200\n",
    "    bill += 10*units\n",
    "elif units > 300:\n",
    "    bill += 450+600+1000\n",
    "    units -= 300\n",
    "    bill += 20*units\n",
    "print(f'Total Electricity Bill Rs.{bill}')"
   ]
  },
  {
   "cell_type": "code",
   "execution_count": null,
   "id": "a0dd311a-785d-4e0b-b3d9-29e33f043d68",
   "metadata": {},
   "outputs": [],
   "source": []
  },
  {
   "cell_type": "markdown",
   "id": "2a87ee2c-c0a2-4f9d-9a74-6632f9be94b6",
   "metadata": {},
   "source": [
    "Q4. Create a list of numbers from 1 to 100. Use for loop and while loop to calculate the cube of each\n",
    "number and if the cube of that number is divisible by 4 or 5 then append that number in a list and print\n",
    "that list."
   ]
  },
  {
   "cell_type": "code",
   "execution_count": 6,
   "id": "2515b279-64d2-488d-922c-05b9e476c4e3",
   "metadata": {},
   "outputs": [
    {
     "name": "stdout",
     "output_type": "stream",
     "text": [
      "[2, 4, 5, 6, 8, 10, 12, 14, 15, 16, 18, 20, 22, 24, 25, 26, 28, 30, 32, 34, 35, 36, 38, 40, 42, 44, 45, 46, 48, 50, 52, 54, 55, 56, 58, 60, 62, 64, 65, 66, 68, 70, 72, 74, 75, 76, 78, 80, 82, 84, 85, 86, 88, 90, 92, 94, 95, 96, 98, 100]\n"
     ]
    }
   ],
   "source": [
    "#for loop\n",
    "l = list(range(1,101))\n",
    "\n",
    "newlist =[]\n",
    "\n",
    "for i in l:\n",
    "    c= i**3\n",
    "    if c %4 ==0 or c%5==0:\n",
    "        newlist.append(i)\n",
    "print(newlist)"
   ]
  },
  {
   "cell_type": "code",
   "execution_count": 8,
   "id": "8688338a-0b77-481f-a6d1-51b3e9789763",
   "metadata": {},
   "outputs": [
    {
     "name": "stdout",
     "output_type": "stream",
     "text": [
      "[2, 4, 5, 6, 8, 10, 12, 14, 15, 16, 18, 20, 22, 24, 25, 26, 28, 30, 32, 34, 35, 36, 38, 40, 42, 44, 45, 46, 48, 50, 52, 54, 55, 56, 58, 60, 62, 64, 65, 66, 68, 70, 72, 74, 75, 76, 78, 80, 82, 84, 85, 86, 88, 90, 92, 94, 95, 96, 98, 100]\n"
     ]
    }
   ],
   "source": [
    "#while loop\n",
    "newlist2 =[]\n",
    "i =1\n",
    "while i <= len(l):\n",
    "    c = i**3\n",
    "    if c%4 ==0 or c%5 ==0:\n",
    "        newlist2.append(i)\n",
    "    i+=1\n",
    "print(newlist2)"
   ]
  },
  {
   "cell_type": "code",
   "execution_count": null,
   "id": "f1c63d45-41c3-4f79-a8e0-755b79d69ade",
   "metadata": {},
   "outputs": [],
   "source": []
  },
  {
   "cell_type": "markdown",
   "id": "3229329e-54cf-4853-aeea-bfdf7b677034",
   "metadata": {},
   "source": [
    "Q5.  Write a program to filter count vowels in the below-given string.string = \"I want to become a data scientist\"\n",
    "==============================================================================================================="
   ]
  },
  {
   "cell_type": "code",
   "execution_count": 14,
   "id": "ad1847bb-e7a3-453d-b3ef-48bbb33f2faf",
   "metadata": {},
   "outputs": [
    {
     "name": "stdout",
     "output_type": "stream",
     "text": [
      "Input string is -> I want to become a data scientist\n",
      "Number of vowels in the string: 12\n"
     ]
    }
   ],
   "source": [
    "input_form_user = \"I want to become a data scientist\"\n",
    "\n",
    "def count_vowels(string):\n",
    "    vowels = \"aeiouAEIOU\"\n",
    "    count = 0\n",
    "    for char in string:\n",
    "        if char in vowels:\n",
    "            count += 1\n",
    "    return count\n",
    "\n",
    "\n",
    "\n",
    "vowel_count = count_vowels(input_form_user)\n",
    "print(\"Input string is ->\", input_form_user)\n",
    "print(\"Number of vowels in the string:\", vowel_count)\n"
   ]
  },
  {
   "cell_type": "code",
   "execution_count": null,
   "id": "dba9b01a-846e-4bfe-88b2-15a70e14b9a5",
   "metadata": {},
   "outputs": [],
   "source": []
  }
 ],
 "metadata": {
  "kernelspec": {
   "display_name": "Python 3 (ipykernel)",
   "language": "python",
   "name": "python3"
  },
  "language_info": {
   "codemirror_mode": {
    "name": "ipython",
    "version": 3
   },
   "file_extension": ".py",
   "mimetype": "text/x-python",
   "name": "python",
   "nbconvert_exporter": "python",
   "pygments_lexer": "ipython3",
   "version": "3.10.8"
  }
 },
 "nbformat": 4,
 "nbformat_minor": 5
}
