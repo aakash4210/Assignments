{
 "cells": [
  {
   "cell_type": "code",
   "execution_count": 1,
   "id": "f3f78dc0-422f-46b1-8d22-053d913c3d26",
   "metadata": {},
   "outputs": [
    {
     "name": "stdin",
     "output_type": "stream",
     "text": [
      "enter your marks 70\n"
     ]
    },
    {
     "name": "stdout",
     "output_type": "stream",
     "text": [
      "Your Grade is C\n"
     ]
    }
   ],
   "source": [
    "#Q1)\n",
    "marks = int(input(\"enter your marks\"))\n",
    "if marks >90:\n",
    "    print (\"Your Grade is A\")\n",
    "elif marks >80 and marks <=90 :\n",
    "    print(\"Your Grade is B\")\n",
    "elif marks >=60 and marks <=80 :\n",
    "    print(\"Your Grade is C\")\n",
    "else :\n",
    "    print(\"Your Grade is D\")"
   ]
  },
  {
   "cell_type": "code",
   "execution_count": 2,
   "id": "55265b6d-1ef1-411d-94be-12bf30edb68d",
   "metadata": {},
   "outputs": [
    {
     "name": "stdin",
     "output_type": "stream",
     "text": [
      "enter the price of bike  100005\n"
     ]
    },
    {
     "name": "stdout",
     "output_type": "stream",
     "text": [
      "Your road tax is 15%\n"
     ]
    }
   ],
   "source": [
    "#Q2\n",
    "\n",
    "price = int(input(\"enter the price of bike \"))\n",
    "if price >100000 :\n",
    "    print (\"Your road tax is 15%\")\n",
    "elif price >50000 and price <100000 :\n",
    "    print(\"Your road tax is 10%\")\n",
    "else :\n",
    "    print(\"Your road tax is 5%\")"
   ]
  },
  {
   "cell_type": "code",
   "execution_count": 3,
   "id": "2710d530-3b0b-4514-a38c-a39d225326d4",
   "metadata": {},
   "outputs": [
    {
     "name": "stdin",
     "output_type": "stream",
     "text": [
      "enter your city Jaipur\n"
     ]
    },
    {
     "name": "stdout",
     "output_type": "stream",
     "text": [
      "Monument of your city is Jal Mahal\n"
     ]
    }
   ],
   "source": [
    "#Q3\n",
    "\n",
    "\n",
    "city = input(\"enter your city\")\n",
    "if city == \"Delhi\" :\n",
    "    print(\"Monument of your city is Red Fort\")\n",
    "if city == \"Agra\" :\n",
    "    print(\"Monument of your city is Taj mahal\")\n",
    "if city == \"Jaipur\":\n",
    "    print(\"Monument of your city is Jal Mahal\")"
   ]
  },
  {
   "cell_type": "code",
   "execution_count": 5,
   "id": "40eda23c-0625-4850-abc2-9c7afcc12510",
   "metadata": {},
   "outputs": [
    {
     "name": "stdin",
     "output_type": "stream",
     "text": [
      "Enter the numbers 300\n"
     ]
    },
    {
     "name": "stdout",
     "output_type": "stream",
     "text": [
      "4\n"
     ]
    }
   ],
   "source": [
    "#Q4\n",
    "\n",
    "num = int(input(\"Enter the numbers\"))\n",
    "count = 0\n",
    "while num > 10:\n",
    "    num = num / 3\n",
    "    count += 1\n",
    "print(count)"
   ]
  },
  {
   "cell_type": "markdown",
   "id": "f2ec86ba-9082-4c5d-a07f-31f296373a33",
   "metadata": {},
   "source": [
    "Q5\n",
    "->\n",
    "Python while loop is used to run a block code until a certain condition is met.\n",
    "      The syntax of while loop is:\n",
    "      while condition:\n",
    "      # body of while loop\n",
    "      Here,\n",
    "      A while loop evaluates the condition\n",
    "      If the condition evaluates to True, the code inside the while loop is executed.\n",
    "      condition is evaluated again.\n",
    "      This process continues until the condition is False.\n",
    "      When condition evaluates to False, the loop stops"
   ]
  },
  {
   "cell_type": "code",
   "execution_count": 9,
   "id": "b8b74093-4601-4905-9168-3da88e4cc16f",
   "metadata": {},
   "outputs": [
    {
     "name": "stdout",
     "output_type": "stream",
     "text": [
      "Pattern 1\n",
      "*\n",
      "**\n",
      "***\n",
      "****\n",
      "*****\n",
      "----------------------------------------------------------------------------------------------------\n",
      "Pattern 2\n",
      "*****\n",
      "****\n",
      "***\n",
      "**\n",
      "*\n",
      "----------------------------------------------------------------------------------------------------\n",
      "Pattern 3\n",
      "    *\n",
      "   **\n",
      "  ***\n",
      " ****\n",
      "*****\n"
     ]
    }
   ],
   "source": [
    "#Q7\n",
    "\n",
    "# Pattern 1:\n",
    "print(\"Pattern 1\")\n",
    "i = 1\n",
    "while i <= 5:\n",
    "    j = 1\n",
    "    while j <= i:\n",
    "        print(\"*\", end=\"\")\n",
    "        j += 1\n",
    "    print(\"\")\n",
    "    i += 1\n",
    "    \n",
    "print(\"-----\"*20)\n",
    "\n",
    "print(\"Pattern 2\")\n",
    "# Pattern 2:\n",
    "i = 5\n",
    "while i >= 1:\n",
    "    j = i\n",
    "    while j >= 1:\n",
    "        print(\"*\", end=\"\")\n",
    "        j -= 1\n",
    "    print(\"\")\n",
    "    i -= 1\n",
    "\n",
    "print(\"-----\"*20)\n",
    "# Pattern 3:\n",
    "\n",
    "print(\"Pattern 3\")\n",
    "i = 5\n",
    "while i >= 1:\n",
    "    j = 1\n",
    "    while j <= 5:\n",
    "        if j >= i:\n",
    "            print(\"*\", end=\"\")\n",
    "        else:\n",
    "            print(\" \", end=\"\")\n",
    "        j += 1\n",
    "    print(\"\")\n",
    "    i -= 1"
   ]
  },
  {
   "cell_type": "code",
   "execution_count": 12,
   "id": "7d2499f9-0162-4ac2-87d2-cb41f54c5abd",
   "metadata": {},
   "outputs": [
    {
     "name": "stdout",
     "output_type": "stream",
     "text": [
      "10\n",
      "9\n",
      "8\n",
      "7\n",
      "6\n",
      "5\n",
      "4\n",
      "3\n",
      "2\n",
      "1\n",
      "0\n"
     ]
    }
   ],
   "source": [
    "#Q7\n",
    "\n",
    "i = 11\n",
    "while i > 0:\n",
    "    i = i - 1\n",
    "    print(i)"
   ]
  },
  {
   "cell_type": "code",
   "execution_count": null,
   "id": "7bf9b187-4dca-46cb-a28e-0ddbe573da53",
   "metadata": {},
   "outputs": [],
   "source": []
  }
 ],
 "metadata": {
  "kernelspec": {
   "display_name": "Python 3 (ipykernel)",
   "language": "python",
   "name": "python3"
  },
  "language_info": {
   "codemirror_mode": {
    "name": "ipython",
    "version": 3
   },
   "file_extension": ".py",
   "mimetype": "text/x-python",
   "name": "python",
   "nbconvert_exporter": "python",
   "pygments_lexer": "ipython3",
   "version": "3.10.8"
  }
 },
 "nbformat": 4,
 "nbformat_minor": 5
}
