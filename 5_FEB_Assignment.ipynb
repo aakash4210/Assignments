{
 "cells": [
  {
   "cell_type": "markdown",
   "id": "e6822d04-e96d-42ee-9f43-b9d0aaf3bf94",
   "metadata": {},
   "source": [
    "Q1. Explain Class and Object with respect to Object-Oriented Programming. Give a suitable example.\n",
    "=="
   ]
  },
  {
   "cell_type": "markdown",
   "id": "ecb0c64b-3784-40cb-8674-9dfb0db5906e",
   "metadata": {},
   "source": [
    "->\n",
    "i.A class is a blueprint for creating objects providing initial values for state , and implementations of behavior.\n",
    "\n",
    "ii.An object is an instance of a class, created at runtime. Each object has its own unique set of attributes and methods that operate on that data."
   ]
  },
  {
   "cell_type": "code",
   "execution_count": 1,
   "id": "71e33397-f96d-4409-8b95-330d58b8bbde",
   "metadata": {},
   "outputs": [
    {
     "name": "stdout",
     "output_type": "stream",
     "text": [
      "Alice\n",
      "16\n",
      "Alice is studying Math\n",
      "ABC High School\n"
     ]
    }
   ],
   "source": [
    "class Student:\n",
    "    school = \"ABC High School\"\n",
    "\n",
    "    def __init__(self, name, age, grade):\n",
    "        # Instance attributes\n",
    "        self.name = name\n",
    "        self.age = age\n",
    "        self.grade = grade\n",
    "\n",
    "    def study(self, subject):\n",
    "        return f\"{self.name} is studying {subject}\"\n",
    "\n",
    "student1 = Student(\"Alice\", 15, 10)\n",
    "student2 = Student(\"Bob\", 16, 11)\n",
    "\n",
    "print(student1.name) \n",
    "print(student2.age)   \n",
    "\n",
    "print(student1.study(\"Math\")) \n",
    "\n",
    "print(student2.school)  \n"
   ]
  },
  {
   "cell_type": "code",
   "execution_count": null,
   "id": "5a473c8c-85fa-486e-be39-168c7b1fc367",
   "metadata": {},
   "outputs": [],
   "source": []
  },
  {
   "cell_type": "markdown",
   "id": "e32029ef-59a3-47e4-9d5a-a86f760fdd8f",
   "metadata": {},
   "source": [
    "Q2. Name the four pillars of OOPs.\n",
    "==\n",
    "->\n",
    "1.Encapsulation\n",
    "2.Inheritance\n",
    "3.Polymorphism\n",
    "4.Abstraction"
   ]
  },
  {
   "cell_type": "markdown",
   "id": "a314240a-ee1e-4aad-b8ca-ee7cf9f54b31",
   "metadata": {},
   "source": []
  },
  {
   "cell_type": "markdown",
   "id": "e631f90a-ee62-4e37-bec3-eaf9e3b4b51e",
   "metadata": {},
   "source": [
    "Q3. Explain why the __init__() function is used. Give a suitable example.\n",
    "=="
   ]
  },
  {
   "cell_type": "markdown",
   "id": "50b18f4c-cdb5-4018-a1b5-ca65b1fbe56f",
   "metadata": {},
   "source": [
    "->\n",
    "The init method is a special method in Python classes that acts as a constructor. \n",
    "It is automatically called when an object of the class is created. \n",
    "The init method is used to initialize the attributes of the class and set the default values."
   ]
  },
  {
   "cell_type": "code",
   "execution_count": 4,
   "id": "fe7532ed-ecfb-4e47-9135-f186ff83cc45",
   "metadata": {},
   "outputs": [
    {
     "name": "stdout",
     "output_type": "stream",
     "text": [
      "Toyota\n",
      "Camry\n",
      "2022\n"
     ]
    }
   ],
   "source": [
    "class Car:\n",
    "  def __init__(self, name, model, year):\n",
    "    self.name = name\n",
    "    self.model = model\n",
    "    self.year = year\n",
    "    self.odometer_reading = 0\n",
    "   \n",
    "\n",
    "my_car = Car(\"Toyota\", \"Camry\", 2022)\n",
    "print(my_car.name) \n",
    "print(my_car.model) \n",
    "print(my_car.year)"
   ]
  },
  {
   "cell_type": "code",
   "execution_count": null,
   "id": "3814845e-46a2-4317-aac6-1cf2934d61b3",
   "metadata": {},
   "outputs": [],
   "source": []
  },
  {
   "cell_type": "markdown",
   "id": "8411ae3b-f22b-4471-80e9-a1a521b8ca64",
   "metadata": {},
   "source": [
    "Q4. Why self is used in OOPs?\n",
    "="
   ]
  },
  {
   "cell_type": "markdown",
   "id": "fb7561e3-4f6f-4417-8102-929fc1540039",
   "metadata": {},
   "source": [
    "self is a reference to the current instance of the class. \n",
    "It is used to access the attributes and methods of the class within the class definition"
   ]
  },
  {
   "cell_type": "code",
   "execution_count": null,
   "id": "9f97a950-43be-4be2-b24c-b14062ec0d2e",
   "metadata": {},
   "outputs": [],
   "source": []
  },
  {
   "cell_type": "markdown",
   "id": "19dbfc91-4ad9-4b37-9c69-964b248bf53c",
   "metadata": {},
   "source": [
    "Q5. What is inheritance? Give an example for each type of inheritance.\n",
    "=="
   ]
  },
  {
   "cell_type": "markdown",
   "id": "3f6e77d2-06c7-4fef-b275-5bd11887b347",
   "metadata": {},
   "source": [
    "inheritance is a mechanism in object-oriented programming that allows a new class to be derived from an existing class, inheriting its attributes and behavior. This is useful for creating new classes that are related to existing classes and share some of their functionality.\n",
    "\n",
    "Types of Inheritance"
   ]
  },
  {
   "cell_type": "code",
   "execution_count": 5,
   "id": "d2ccf53b-f731-4aa6-85db-4ed8e337b973",
   "metadata": {},
   "outputs": [
    {
     "name": "stdout",
     "output_type": "stream",
     "text": [
      "This function is in parent class.\n",
      "This function is in child class.\n"
     ]
    }
   ],
   "source": [
    "#1)Single Inheritance Single inheritance enables a derived class to inherit properties from a single parent class, thus enabling code reusability and the addition of new features to existing code.\n",
    "#example\n",
    "class Parent:\n",
    "    def func1(self):\n",
    "        print(\"This function is in parent class.\")\n",
    "class Child(Parent):\n",
    "    def func2(self):\n",
    "        print(\"This function is in child class.\")\n",
    "\n",
    "object = Child()\n",
    "object.func1()\n",
    "object.func2()"
   ]
  },
  {
   "cell_type": "code",
   "execution_count": 6,
   "id": "49f521df-bca2-4f81-827f-1d5834828d16",
   "metadata": {},
   "outputs": [
    {
     "name": "stdout",
     "output_type": "stream",
     "text": [
      "Father : RAM\n",
      "Mother : SITA\n"
     ]
    }
   ],
   "source": [
    "#2)Multiple Inheritance: When a class can be derived from more than one base class this type of inheritance is called multiple inheritances. In multiple inheritances, all the features of the base classes are inherited into the derived class.\n",
    "\n",
    "class Mother:\n",
    "    mothername = \"\"\n",
    " \n",
    "    def mother(self):\n",
    "        print(self.mothername)\n",
    " \n",
    "class Father:\n",
    "    fathername = \"\"\n",
    " \n",
    "    def father(self):\n",
    "        print(self.fathername)\n",
    "\n",
    "class Son(Mother, Father):\n",
    "    def parents(self):\n",
    "        print(\"Father :\", self.fathername)\n",
    "        print(\"Mother :\", self.mothername)\n",
    "\n",
    "s1 = Son()\n",
    "s1.fathername = \"RAM\"\n",
    "s1.mothername = \"SITA\"\n",
    "s1.parents()"
   ]
  },
  {
   "cell_type": "code",
   "execution_count": 8,
   "id": "bf784a8c-acce-4313-93a8-e5ff1bd95d35",
   "metadata": {},
   "outputs": [
    {
     "name": "stdout",
     "output_type": "stream",
     "text": [
      "devchand\n",
      "Grandfather name : devchand\n",
      "Father name : Madhukar\n",
      "Son name : king\n"
     ]
    }
   ],
   "source": [
    "#3)Multilevel Inheritance : In multilevel inheritance, features of the base class and the derived class are further inherited into the new derived class. This is similar to a relationship representing a child and a grandfather.\n",
    "class Grandfather:\n",
    " \n",
    "    def __init__(self, grandfathername):\n",
    "        self.grandfathername = grandfathername\n",
    " \n",
    "\n",
    "class Father(Grandfather):\n",
    "    def __init__(self, fathername, grandfathername):\n",
    "        self.fathername = fathername\n",
    " \n",
    "       \n",
    "        Grandfather.__init__(self, grandfathername)\n",
    " \n",
    "\n",
    " \n",
    " \n",
    "class Son(Father):\n",
    "    def __init__(self, sonname, fathername, grandfathername):\n",
    "        self.sonname = sonname\n",
    " \n",
    "\n",
    "        Father.__init__(self, fathername, grandfathername)\n",
    " \n",
    "    def print_name(self):\n",
    "        print('Grandfather name :', self.grandfathername)\n",
    "        print(\"Father name :\", self.fathername)\n",
    "        print(\"Son name :\", self.sonname)\n",
    " \n",
    "s1 = Son('king', 'Madhukar', 'devchand')\n",
    "print(s1.grandfathername)\n",
    "s1.print_name()"
   ]
  },
  {
   "cell_type": "code",
   "execution_count": 9,
   "id": "00bc4e13-3f96-4a85-b760-3d2dc974796a",
   "metadata": {},
   "outputs": [
    {
     "name": "stdout",
     "output_type": "stream",
     "text": [
      "This function is in parent class.\n",
      "This function is in child 1.\n",
      "This function is in parent class.\n",
      "This function is in child 2.\n"
     ]
    }
   ],
   "source": [
    "#4)Hierarchical Inheritance: When more than one derived class are created from a single base this type of inheritance is called hierarchical inheritance. In this program, we have a parent (base) class and two child (derived) classes.\n",
    "class Parent:\n",
    "    def func1(self):\n",
    "        print(\"This function is in parent class.\")\n",
    " \n",
    "# Derived class1\n",
    "class Child1(Parent):\n",
    "    def func2(self):\n",
    "        print(\"This function is in child 1.\")\n",
    " \n",
    "# Derivied class2\n",
    "class Child2(Parent):\n",
    "    def func3(self):\n",
    "        print(\"This function is in child 2.\")\n",
    " \n",
    " \n",
    "# Driver's code\n",
    "object1 = Child1()\n",
    "object2 = Child2()\n",
    "object1.func1()\n",
    "object1.func2()\n",
    "object2.func1()\n",
    "object2.func3()\n"
   ]
  },
  {
   "cell_type": "code",
   "execution_count": 10,
   "id": "848c3eae-ffc2-4d12-b73f-1879f0de55b7",
   "metadata": {},
   "outputs": [
    {
     "name": "stdout",
     "output_type": "stream",
     "text": [
      "This function is in school.\n",
      "This function is in student 1. \n"
     ]
    }
   ],
   "source": [
    "#5)Hybrid Inheritance: Inheritance consisting of multiple types of inheritance is called hybrid inheritance.\n",
    "class School:\n",
    "    def func1(self):\n",
    "        print(\"This function is in school.\")\n",
    " \n",
    " \n",
    "class Student1(School):\n",
    "    def func2(self):\n",
    "        print(\"This function is in student 1. \")\n",
    " \n",
    " \n",
    "class Student2(School):\n",
    "    def func3(self):\n",
    "        print(\"This function is in student 2.\")\n",
    " \n",
    " \n",
    "class Student3(Student1, School):\n",
    "    def func4(self):\n",
    "        print(\"This function is in student 3.\")\n",
    " \n",
    " \n",
    "# Driver's code\n",
    "object = Student3()\n",
    "object.func1()\n",
    "object.func2()"
   ]
  },
  {
   "cell_type": "code",
   "execution_count": null,
   "id": "67b04d99-d4e2-416d-83fd-989a74cfa1f1",
   "metadata": {},
   "outputs": [],
   "source": []
  }
 ],
 "metadata": {
  "kernelspec": {
   "display_name": "Python 3 (ipykernel)",
   "language": "python",
   "name": "python3"
  },
  "language_info": {
   "codemirror_mode": {
    "name": "ipython",
    "version": 3
   },
   "file_extension": ".py",
   "mimetype": "text/x-python",
   "name": "python",
   "nbconvert_exporter": "python",
   "pygments_lexer": "ipython3",
   "version": "3.10.8"
  }
 },
 "nbformat": 4,
 "nbformat_minor": 5
}
